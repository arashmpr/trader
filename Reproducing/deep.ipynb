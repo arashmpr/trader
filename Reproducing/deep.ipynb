{
 "cells": [
  {
   "cell_type": "code",
   "execution_count": 1,
   "metadata": {},
   "outputs": [],
   "source": [
    "import yfinance as yf\n",
    "import pandas as pd"
   ]
  },
  {
   "cell_type": "code",
   "execution_count": 4,
   "metadata": {},
   "outputs": [
    {
     "name": "stderr",
     "output_type": "stream",
     "text": [
      "[*********************100%***********************]  1 of 1 completed\n",
      "[*********************100%***********************]  1 of 1 completed\n"
     ]
    }
   ],
   "source": [
    "tickers = [\n",
    "    'BTC-USD', 'ETH-USD'\n",
    "]\n",
    "\n",
    "def get_data(tickers):\n",
    "    crypto_data = {}\n",
    "    for ticker in tickers:\n",
    "        df = yf.download(ticker, start='2016-01-01', end='2024-12-4')\n",
    "        crypto_data[ticker] = df\n",
    "    return crypto_data\n",
    "\n",
    "crypto_data = get_data(tickers)\n",
    "\n",
    "for ticker, df in crypto_data.items():\n",
    "    df.to_csv(f'{ticker}.csv')"
   ]
  },
  {
   "cell_type": "code",
   "execution_count": null,
   "metadata": {},
   "outputs": [],
   "source": []
  }
 ],
 "metadata": {
  "kernelspec": {
   "display_name": "exploreRL",
   "language": "python",
   "name": "python3"
  },
  "language_info": {
   "codemirror_mode": {
    "name": "ipython",
    "version": 3
   },
   "file_extension": ".py",
   "mimetype": "text/x-python",
   "name": "python",
   "nbconvert_exporter": "python",
   "pygments_lexer": "ipython3",
   "version": "3.11.5"
  }
 },
 "nbformat": 4,
 "nbformat_minor": 2
}
